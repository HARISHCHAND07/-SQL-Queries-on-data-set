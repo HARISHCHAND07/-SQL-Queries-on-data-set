{
 "cells": [
  {
   "cell_type": "code",
   "execution_count": 1,
   "id": "defb7079",
   "metadata": {},
   "outputs": [],
   "source": [
    "import pandas as pd\n",
    "import sqlite3"
   ]
  },
  {
   "cell_type": "code",
   "execution_count": 2,
   "id": "9655d3d1",
   "metadata": {},
   "outputs": [],
   "source": [
    "order_df=pd.read_csv('customer_orders.csv')\n",
    "payment_df=pd.read_csv('payments.csv')"
   ]
  },
  {
   "cell_type": "code",
   "execution_count": 50,
   "id": "0f73baa6",
   "metadata": {},
   "outputs": [],
   "source": [
    "conn = sqlite3.connect('internship_project.db')\n",
    "cursor = conn.cursor()"
   ]
  },
  {
   "cell_type": "code",
   "execution_count": 53,
   "id": "dde160ad",
   "metadata": {},
   "outputs": [
    {
     "data": {
      "text/plain": [
       "<sqlite3.Cursor at 0x274c2f3f640>"
      ]
     },
     "execution_count": 53,
     "metadata": {},
     "output_type": "execute_result"
    }
   ],
   "source": [
    "cursor.execute('''\n",
    "    CREATE TABLE IF NOT EXISTS customer_orders (\n",
    "        order_id TEXT PRIMARY KEY,\n",
    "        customer_id INTEGER,\n",
    "        order_date TEXT,\n",
    "        order_amount REAL,\n",
    "        shipping_address TEXT,\n",
    "        order_status TEXT\n",
    "    )\n",
    "''')\n"
   ]
  },
  {
   "cell_type": "code",
   "execution_count": 52,
   "id": "b093a6c0",
   "metadata": {},
   "outputs": [],
   "source": [
    "cursor.execute('''\n",
    "    CREATE TABLE IF NOT EXISTS payments (\n",
    "        payment_id TEXT PRIMARY KEY,\n",
    "        order_id TEXT,\n",
    "        payment_date TEXT,\n",
    "        payment_amount REAL,\n",
    "        payment_method TEXT,\n",
    "        payment_status TEXT,\n",
    "        FOREIGN KEY (order_id) REFERENCES customer_orders(order_id)\n",
    "    )\n",
    "''')\n",
    "\n",
    "conn.commit()"
   ]
  },
  {
   "cell_type": "code",
   "execution_count": 61,
   "id": "bf0ec1b8",
   "metadata": {},
   "outputs": [
    {
     "data": {
      "text/plain": [
       "15000"
      ]
     },
     "execution_count": 61,
     "metadata": {},
     "output_type": "execute_result"
    }
   ],
   "source": [
    "\n",
    "order_df.to_sql('customer_orders', conn, if_exists='replace', index=False)\n",
    "payment_df.to_sql('payments', conn, if_exists='replace', index=False)"
   ]
  },
  {
   "cell_type": "code",
   "execution_count": 54,
   "id": "38ca3601",
   "metadata": {},
   "outputs": [
    {
     "name": "stdout",
     "output_type": "stream",
     "text": [
      "\n",
      " Orders by Status:\n",
      "  order_status  number_of_orders\n",
      "0      pending              5069\n",
      "1    delivered              5057\n",
      "2      shipped              4874\n"
     ]
    }
   ],
   "source": [
    "print(\"\\n Orders by Status:\")\n",
    "query1 = \"\"\"\n",
    "SELECT order_status, COUNT(*) AS number_of_orders\n",
    "FROM customer_orders\n",
    "GROUP BY order_status\n",
    "ORDER BY number_of_orders DESC;\n",
    "\"\"\"\n",
    "print(pd.read_sql(query1, conn))"
   ]
  },
  {
   "cell_type": "code",
   "execution_count": 55,
   "id": "96007680",
   "metadata": {},
   "outputs": [
    {
     "name": "stdout",
     "output_type": "stream",
     "text": [
      "\n",
      " Total Sales Per Month:\n",
      "      month  total_sales\n",
      "0   2020-01     60638.78\n",
      "1   2020-02     61461.48\n",
      "2   2020-03     54706.72\n",
      "3   2020-04     56073.18\n",
      "4   2020-05     58426.84\n",
      "..      ...          ...\n",
      "59  2024-12     57256.38\n",
      "60  2025-01     58413.77\n",
      "61  2025-02     57557.77\n",
      "62  2025-03     64379.46\n",
      "63  2025-04     57148.69\n",
      "\n",
      "[64 rows x 2 columns]\n"
     ]
    }
   ],
   "source": [
    "\n",
    "print(\"\\n Total Sales Per Month:\")\n",
    "query2 = \"\"\"\n",
    "SELECT \n",
    "    substr(order_date, 1, 7) AS month,\n",
    "    SUM(order_amount) AS total_sales\n",
    "FROM customer_orders\n",
    "GROUP BY month\n",
    "ORDER BY month;\n",
    "\"\"\"\n",
    "print(pd.read_sql(query2, conn))"
   ]
  },
  {
   "cell_type": "code",
   "execution_count": 56,
   "id": "298bf5ad",
   "metadata": {},
   "outputs": [
    {
     "name": "stdout",
     "output_type": "stream",
     "text": [
      "\n",
      " Repeat Customers:\n",
      "      customer_id  number_of_orders\n",
      "0            2633                 8\n",
      "1            9955                 7\n",
      "2            9476                 7\n",
      "3            9243                 7\n",
      "4            8231                 7\n",
      "...           ...               ...\n",
      "4397         1013                 2\n",
      "4398         1005                 2\n",
      "4399         1004                 2\n",
      "4400         1003                 2\n",
      "4401         1000                 2\n",
      "\n",
      "[4402 rows x 2 columns]\n"
     ]
    }
   ],
   "source": [
    "print(\"\\n Repeat Customers:\")\n",
    "query3 = \"\"\"\n",
    "SELECT customer_id, COUNT(*) AS number_of_orders\n",
    "FROM customer_orders\n",
    "GROUP BY customer_id\n",
    "HAVING number_of_orders > 1\n",
    "ORDER BY number_of_orders DESC;\n",
    "\"\"\"\n",
    "print(pd.read_sql(query3, conn))"
   ]
  },
  {
   "cell_type": "code",
   "execution_count": 57,
   "id": "0fc4153e",
   "metadata": {},
   "outputs": [
    {
     "name": "stdout",
     "output_type": "stream",
     "text": [
      "\n",
      " Payment Status Breakdown:\n",
      "  payment_status  number_of_payments\n",
      "0      completed                4991\n",
      "1         failed                5003\n",
      "2        pending                5006\n"
     ]
    }
   ],
   "source": [
    "print(\"\\n Payment Status Breakdown:\")\n",
    "query4 = \"\"\"\n",
    "SELECT payment_status, COUNT(*) AS number_of_payments\n",
    "FROM payments\n",
    "GROUP BY payment_status;\n",
    "\"\"\"\n",
    "print(pd.read_sql(query4, conn))"
   ]
  },
  {
   "cell_type": "code",
   "execution_count": 62,
   "id": "26e8cfa8",
   "metadata": {
    "scrolled": true
   },
   "outputs": [
    {
     "name": "stdout",
     "output_type": "stream",
     "text": [
      " \n",
      "                                 Orders WITHOUT Payments\n"
     ]
    },
    {
     "ename": "DatabaseError",
     "evalue": "Execution failed on sql 'select count(*)(SELECT \n    o.order_id,\n    o.customer_id,\n    o.order_date,\n    o.order_amount,\n    o.order_status\nFROM customer_orders o\nLEFT JOIN payments p\nON o.order_id = p.order_id\nWHERE p.payment_id IS NULL\nORDER BY o.order_date DESC);': near \"(\": syntax error",
     "output_type": "error",
     "traceback": [
      "\u001b[1;31m---------------------------------------------------------------------------\u001b[0m",
      "\u001b[1;31mOperationalError\u001b[0m                          Traceback (most recent call last)",
      "File \u001b[1;32m~\\OneDrive\\my life\\lib\\site-packages\\pandas\\io\\sql.py:2018\u001b[0m, in \u001b[0;36mSQLiteDatabase.execute\u001b[1;34m(self, *args, **kwargs)\u001b[0m\n\u001b[0;32m   2017\u001b[0m \u001b[38;5;28;01mtry\u001b[39;00m:\n\u001b[1;32m-> 2018\u001b[0m     cur\u001b[38;5;241m.\u001b[39mexecute(\u001b[38;5;241m*\u001b[39margs, \u001b[38;5;241m*\u001b[39m\u001b[38;5;241m*\u001b[39mkwargs)\n\u001b[0;32m   2019\u001b[0m     \u001b[38;5;28;01mreturn\u001b[39;00m cur\n",
      "\u001b[1;31mOperationalError\u001b[0m: near \"(\": syntax error",
      "\nThe above exception was the direct cause of the following exception:\n",
      "\u001b[1;31mDatabaseError\u001b[0m                             Traceback (most recent call last)",
      "Cell \u001b[1;32mIn[62], line 13\u001b[0m\n\u001b[0;32m      1\u001b[0m \u001b[38;5;28mprint\u001b[39m(\u001b[38;5;124m'\u001b[39m\u001b[38;5;124m \u001b[39m\u001b[38;5;130;01m\\n\u001b[39;00m\u001b[38;5;124m                                 Orders WITHOUT Payments\u001b[39m\u001b[38;5;124m'\u001b[39m)\n\u001b[0;32m      2\u001b[0m query5\u001b[38;5;241m=\u001b[39m\u001b[38;5;124m\"\"\"\u001b[39m\u001b[38;5;124mselect count(*)(SELECT \u001b[39m\n\u001b[0;32m      3\u001b[0m \u001b[38;5;124m    o.order_id,\u001b[39m\n\u001b[0;32m      4\u001b[0m \u001b[38;5;124m    o.customer_id,\u001b[39m\n\u001b[1;32m   (...)\u001b[0m\n\u001b[0;32m     11\u001b[0m \u001b[38;5;124mWHERE p.payment_id IS NULL\u001b[39m\n\u001b[0;32m     12\u001b[0m \u001b[38;5;124mORDER BY o.order_date DESC);\u001b[39m\u001b[38;5;124m\"\"\"\u001b[39m\n\u001b[1;32m---> 13\u001b[0m \u001b[38;5;28mprint\u001b[39m(\u001b[43mpd\u001b[49m\u001b[38;5;241;43m.\u001b[39;49m\u001b[43mread_sql\u001b[49m\u001b[43m(\u001b[49m\u001b[43mquery5\u001b[49m\u001b[43m,\u001b[49m\u001b[43mconn\u001b[49m\u001b[43m)\u001b[49m)\n",
      "File \u001b[1;32m~\\OneDrive\\my life\\lib\\site-packages\\pandas\\io\\sql.py:564\u001b[0m, in \u001b[0;36mread_sql\u001b[1;34m(sql, con, index_col, coerce_float, params, parse_dates, columns, chunksize)\u001b[0m\n\u001b[0;32m    561\u001b[0m pandas_sql \u001b[38;5;241m=\u001b[39m pandasSQL_builder(con)\n\u001b[0;32m    563\u001b[0m \u001b[38;5;28;01mif\u001b[39;00m \u001b[38;5;28misinstance\u001b[39m(pandas_sql, SQLiteDatabase):\n\u001b[1;32m--> 564\u001b[0m     \u001b[38;5;28;01mreturn\u001b[39;00m \u001b[43mpandas_sql\u001b[49m\u001b[38;5;241;43m.\u001b[39;49m\u001b[43mread_query\u001b[49m\u001b[43m(\u001b[49m\n\u001b[0;32m    565\u001b[0m \u001b[43m        \u001b[49m\u001b[43msql\u001b[49m\u001b[43m,\u001b[49m\n\u001b[0;32m    566\u001b[0m \u001b[43m        \u001b[49m\u001b[43mindex_col\u001b[49m\u001b[38;5;241;43m=\u001b[39;49m\u001b[43mindex_col\u001b[49m\u001b[43m,\u001b[49m\n\u001b[0;32m    567\u001b[0m \u001b[43m        \u001b[49m\u001b[43mparams\u001b[49m\u001b[38;5;241;43m=\u001b[39;49m\u001b[43mparams\u001b[49m\u001b[43m,\u001b[49m\n\u001b[0;32m    568\u001b[0m \u001b[43m        \u001b[49m\u001b[43mcoerce_float\u001b[49m\u001b[38;5;241;43m=\u001b[39;49m\u001b[43mcoerce_float\u001b[49m\u001b[43m,\u001b[49m\n\u001b[0;32m    569\u001b[0m \u001b[43m        \u001b[49m\u001b[43mparse_dates\u001b[49m\u001b[38;5;241;43m=\u001b[39;49m\u001b[43mparse_dates\u001b[49m\u001b[43m,\u001b[49m\n\u001b[0;32m    570\u001b[0m \u001b[43m        \u001b[49m\u001b[43mchunksize\u001b[49m\u001b[38;5;241;43m=\u001b[39;49m\u001b[43mchunksize\u001b[49m\u001b[43m,\u001b[49m\n\u001b[0;32m    571\u001b[0m \u001b[43m    \u001b[49m\u001b[43m)\u001b[49m\n\u001b[0;32m    573\u001b[0m \u001b[38;5;28;01mtry\u001b[39;00m:\n\u001b[0;32m    574\u001b[0m     _is_table_name \u001b[38;5;241m=\u001b[39m pandas_sql\u001b[38;5;241m.\u001b[39mhas_table(sql)\n",
      "File \u001b[1;32m~\\OneDrive\\my life\\lib\\site-packages\\pandas\\io\\sql.py:2078\u001b[0m, in \u001b[0;36mSQLiteDatabase.read_query\u001b[1;34m(self, sql, index_col, coerce_float, params, parse_dates, chunksize, dtype)\u001b[0m\n\u001b[0;32m   2066\u001b[0m \u001b[38;5;28;01mdef\u001b[39;00m \u001b[38;5;21mread_query\u001b[39m(\n\u001b[0;32m   2067\u001b[0m     \u001b[38;5;28mself\u001b[39m,\n\u001b[0;32m   2068\u001b[0m     sql,\n\u001b[1;32m   (...)\u001b[0m\n\u001b[0;32m   2074\u001b[0m     dtype: DtypeArg \u001b[38;5;241m|\u001b[39m \u001b[38;5;28;01mNone\u001b[39;00m \u001b[38;5;241m=\u001b[39m \u001b[38;5;28;01mNone\u001b[39;00m,\n\u001b[0;32m   2075\u001b[0m ) \u001b[38;5;241m-\u001b[39m\u001b[38;5;241m>\u001b[39m DataFrame \u001b[38;5;241m|\u001b[39m Iterator[DataFrame]:\n\u001b[0;32m   2077\u001b[0m     args \u001b[38;5;241m=\u001b[39m _convert_params(sql, params)\n\u001b[1;32m-> 2078\u001b[0m     cursor \u001b[38;5;241m=\u001b[39m \u001b[38;5;28;43mself\u001b[39;49m\u001b[38;5;241;43m.\u001b[39;49m\u001b[43mexecute\u001b[49m\u001b[43m(\u001b[49m\u001b[38;5;241;43m*\u001b[39;49m\u001b[43margs\u001b[49m\u001b[43m)\u001b[49m\n\u001b[0;32m   2079\u001b[0m     columns \u001b[38;5;241m=\u001b[39m [col_desc[\u001b[38;5;241m0\u001b[39m] \u001b[38;5;28;01mfor\u001b[39;00m col_desc \u001b[38;5;129;01min\u001b[39;00m cursor\u001b[38;5;241m.\u001b[39mdescription]\n\u001b[0;32m   2081\u001b[0m     \u001b[38;5;28;01mif\u001b[39;00m chunksize \u001b[38;5;129;01mis\u001b[39;00m \u001b[38;5;129;01mnot\u001b[39;00m \u001b[38;5;28;01mNone\u001b[39;00m:\n",
      "File \u001b[1;32m~\\OneDrive\\my life\\lib\\site-packages\\pandas\\io\\sql.py:2030\u001b[0m, in \u001b[0;36mSQLiteDatabase.execute\u001b[1;34m(self, *args, **kwargs)\u001b[0m\n\u001b[0;32m   2027\u001b[0m     \u001b[38;5;28;01mraise\u001b[39;00m ex \u001b[38;5;28;01mfrom\u001b[39;00m \u001b[38;5;21;01minner_exc\u001b[39;00m\n\u001b[0;32m   2029\u001b[0m ex \u001b[38;5;241m=\u001b[39m DatabaseError(\u001b[38;5;124mf\u001b[39m\u001b[38;5;124m\"\u001b[39m\u001b[38;5;124mExecution failed on sql \u001b[39m\u001b[38;5;124m'\u001b[39m\u001b[38;5;132;01m{\u001b[39;00margs[\u001b[38;5;241m0\u001b[39m]\u001b[38;5;132;01m}\u001b[39;00m\u001b[38;5;124m'\u001b[39m\u001b[38;5;124m: \u001b[39m\u001b[38;5;132;01m{\u001b[39;00mexc\u001b[38;5;132;01m}\u001b[39;00m\u001b[38;5;124m\"\u001b[39m)\n\u001b[1;32m-> 2030\u001b[0m \u001b[38;5;28;01mraise\u001b[39;00m ex \u001b[38;5;28;01mfrom\u001b[39;00m \u001b[38;5;21;01mexc\u001b[39;00m\n",
      "\u001b[1;31mDatabaseError\u001b[0m: Execution failed on sql 'select count(*)(SELECT \n    o.order_id,\n    o.customer_id,\n    o.order_date,\n    o.order_amount,\n    o.order_status\nFROM customer_orders o\nLEFT JOIN payments p\nON o.order_id = p.order_id\nWHERE p.payment_id IS NULL\nORDER BY o.order_date DESC);': near \"(\": syntax error"
     ]
    }
   ],
   "source": [
    "print(' \\n                                 Orders WITHOUT Payments')\n",
    "query5=\"\"\"select count(*)(SELECT \n",
    "    o.order_id,\n",
    "    o.customer_id,\n",
    "    o.order_date,\n",
    "    o.order_amount,\n",
    "    o.order_status\n",
    "FROM customer_orders o\n",
    "LEFT JOIN payments p\n",
    "ON o.order_id = p.order_id\n",
    "WHERE p.payment_id IS NULL\n",
    "ORDER BY o.order_date DESC);\"\"\"\n",
    "print(pd.read_sql(query5,conn))"
   ]
  },
  {
   "cell_type": "code",
   "execution_count": 64,
   "id": "731e9928",
   "metadata": {},
   "outputs": [
    {
     "name": "stdout",
     "output_type": "stream",
     "text": [
      "Orders WITH Failed Payments\n",
      "                                  order_id  customer_id  order_date  \\\n",
      "0     635ca627-3582-439f-9a63-86ff2358e242         9748  2023-08-18   \n",
      "1     5101faa8-e52d-41c5-b9d4-3fe7d0db4300         1674  2025-01-04   \n",
      "2     96c9d69d-25d8-4318-99d9-ca943289b9aa         2529  2021-05-16   \n",
      "3     1b045524-9878-4a6c-af4a-283a02e5f6af         9324  2024-06-14   \n",
      "4     341432e7-f71b-4727-aacb-3c965b02c5cd         1747  2023-09-10   \n",
      "...                                    ...          ...         ...   \n",
      "4998  49877ab1-d321-4664-8531-d328fb94d847         1811  2020-08-09   \n",
      "4999  219a6911-cefb-4cbe-8a9a-2954567e811e         1301  2022-10-17   \n",
      "5000  cf43a1e2-854e-49dc-b71e-9a7e21a7243e         6105  2020-02-14   \n",
      "5001  08d2bb67-b778-47ec-92a6-68c08feb5c48         4971  2022-09-05   \n",
      "5002  7a640675-c048-4da1-a97e-cfaa1b5f9ee5         6340  2020-06-28   \n",
      "\n",
      "      order_amount order_status                            payment_id  \\\n",
      "0            70.83      pending  26b8b3a3-bb49-42f1-aba0-0a3a86a88bc9   \n",
      "1           166.47    delivered  abaf59b2-85ed-402c-b4f4-05fb06280de1   \n",
      "2           345.34    delivered  e9ed5515-8de3-4e04-96ec-30dcd339071e   \n",
      "3           327.05      pending  a6a893d6-71af-421f-ad01-0994033dcc9d   \n",
      "4           383.59    delivered  5858027e-a4b6-47d4-98d5-368110063e14   \n",
      "...            ...          ...                                   ...   \n",
      "4998        466.07    delivered  6f902e43-b8bc-4ea9-90cc-6912df56b3e4   \n",
      "4999         66.61      shipped  11edb291-63ef-4950-9503-aaa1dee68991   \n",
      "5000        358.56    delivered  33a541f7-247b-4cdc-a3f7-14cf09e5412e   \n",
      "5001        216.75    delivered  80dd753d-bf61-4125-9554-f44f6e44e3f8   \n",
      "5002        250.29      pending  ec117f47-2c4f-45fd-ad72-494297d948b2   \n",
      "\n",
      "     payment_date  payment_amount payment_method payment_status  \n",
      "0      2025-04-27          124.63         paypal         failed  \n",
      "1      2025-04-27           30.11  bank transfer         failed  \n",
      "2      2025-04-27          150.48         paypal         failed  \n",
      "3      2025-04-26          439.46         paypal         failed  \n",
      "4      2025-04-25           25.93    credit card         failed  \n",
      "...           ...             ...            ...            ...  \n",
      "4998   2020-01-02          208.66  bank transfer         failed  \n",
      "4999   2020-01-02           99.67    credit card         failed  \n",
      "5000   2020-01-01          375.14    credit card         failed  \n",
      "5001   2020-01-01          389.06    credit card         failed  \n",
      "5002   2020-01-01          403.19  bank transfer         failed  \n",
      "\n",
      "[5003 rows x 10 columns]\n"
     ]
    }
   ],
   "source": [
    "print('Orders WITH Failed Payments')\n",
    "query6=\"\"\"SELECT \n",
    "    o.order_id,\n",
    "    o.customer_id,\n",
    "    o.order_date,\n",
    "    o.order_amount,\n",
    "    o.order_status,\n",
    "    p.payment_id,\n",
    "    p.payment_date,\n",
    "    p.payment_amount,\n",
    "    p.payment_method,\n",
    "    p.payment_status\n",
    "FROM customer_orders o\n",
    "INNER JOIN payments p\n",
    "ON o.order_id = p.order_id\n",
    "WHERE p.payment_status = 'failed'\n",
    "ORDER BY p.payment_date DESC;\n",
    "\"\"\"\n",
    "print(pd.read_sql(query6,conn))"
   ]
  },
  {
   "cell_type": "code",
   "execution_count": 65,
   "id": "522fb56e",
   "metadata": {},
   "outputs": [
    {
     "data": {
      "text/plain": [
       "pending      5069\n",
       "delivered    5057\n",
       "shipped      4874\n",
       "Name: order_status, dtype: int64"
      ]
     },
     "execution_count": 65,
     "metadata": {},
     "output_type": "execute_result"
    }
   ],
   "source": [
    "order_df['order_status'].value_counts()"
   ]
  },
  {
   "cell_type": "code",
   "execution_count": null,
   "id": "c0103fa6",
   "metadata": {},
   "outputs": [],
   "source": []
  },
  {
   "cell_type": "code",
   "execution_count": null,
   "id": "932d63ba",
   "metadata": {},
   "outputs": [],
   "source": []
  }
 ],
 "metadata": {
  "kernelspec": {
   "display_name": "Python 3 (ipykernel)",
   "language": "python",
   "name": "python3"
  },
  "language_info": {
   "codemirror_mode": {
    "name": "ipython",
    "version": 3
   },
   "file_extension": ".py",
   "mimetype": "text/x-python",
   "name": "python",
   "nbconvert_exporter": "python",
   "pygments_lexer": "ipython3",
   "version": "3.10.9"
  }
 },
 "nbformat": 4,
 "nbformat_minor": 5
}
